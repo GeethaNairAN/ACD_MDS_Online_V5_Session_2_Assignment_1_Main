{
 "cells": [
  {
   "cell_type": "code",
   "execution_count": 1,
   "metadata": {},
   "outputs": [
    {
     "name": "stdout",
     "output_type": "stream",
     "text": [
      "Enter the number values separated by comma : 23,45,6,7,89,28\n",
      "The list of numbers :  ['23', '45', '6', '7', '89', '28']\n"
     ]
    }
   ],
   "source": [
    "#Accept comma separated numbers from the user into numval. \n",
    "numval=input(\"Enter the number values separated by comma : \")\n",
    "\n",
    "#Split the numbers based on comma. numList is the list generated. \n",
    "numList=numval.split(',')\n",
    "\n",
    "#Print the list generated\n",
    "print (\"The list of numbers : \", numList)"
   ]
  },
  {
   "cell_type": "code",
   "execution_count": 2,
   "metadata": {},
   "outputs": [
    {
     "name": "stdout",
     "output_type": "stream",
     "text": [
      "*\n",
      "**\n",
      "***\n",
      "****\n",
      "*****\n",
      "****\n",
      "***\n",
      "**\n",
      "*\n"
     ]
    }
   ],
   "source": [
    "'''A function displayasterik to display the asteriks as required in the problem. \n",
    "   Count is the parameter to be supplied to the function - this will be the maximum number of asteriks to be displayed. '''\n",
    "def displayasterik(count):\n",
    "\n",
    "# Display the first set of incrementing astreiks\n",
    "    k=count+1\n",
    "    for j in range(1,k):\n",
    "        list4='*'\n",
    "        list4=list4*j\n",
    "        print(list4)\n",
    "        \n",
    "# Display the second set of decrementing asteriks\n",
    "    k=count-1\n",
    "    for j in range(k,0,-1):\n",
    "        list4='*'\n",
    "        list4=list4*j\n",
    "        print(list4)\n",
    "\n",
    "# Call the function with the required count to display the asteriks. Use 5 as the value for testing.\n",
    "displayasterik(5)"
   ]
  },
  {
   "cell_type": "code",
   "execution_count": 3,
   "metadata": {},
   "outputs": [
    {
     "name": "stdout",
     "output_type": "stream",
     "text": [
      "Enter the value to be reversed : AcadGild\n",
      "The reverse of the accepted word is :  dliGdacA\n"
     ]
    }
   ],
   "source": [
    "#Program to accept the input from the user and reverse the word. \n",
    "StrInp = input(\"Enter the value to be reversed : \")\n",
    "\n",
    "#Reverse the word accepted.\n",
    "RevStr = StrInp[::-1]\n",
    "\n",
    "#Print the reverse of the String.\n",
    "print(\"The reverse of the accepted word is : \", RevStr)"
   ]
  },
  {
   "cell_type": "code",
   "execution_count": 4,
   "metadata": {},
   "outputs": [
    {
     "name": "stdout",
     "output_type": "stream",
     "text": [
      "WE,THE PEOPLE OF INDIA, \n",
      "     having solemnly resolved to constitute India into a SOVEREIGN,!\n",
      "\t    SOCIALIST, SECULAR, DEMOCRATIC REPUBLIC \n",
      "\t     and to secure to all its citizens\n"
     ]
    }
   ],
   "source": [
    "#Define the string to be reformatted. \n",
    "RefStr='WE,THE PEOPLE OF INDIA, having solemnly resolved to constitute India into a SOVEREIGN, SOCIALIST, SECULAR, DEMOCRATIC REPUBLIC and to secure to all its citizens'\n",
    "\n",
    "#Partition the fields of the string as required.\n",
    "lista=[]\n",
    "lista=RefStr.partition('having')\n",
    "listb=[]\n",
    "listb=lista[2].partition(' SOCIALIST')\n",
    "listc=[]\n",
    "listc=listb[2].partition('and')\n",
    "\n",
    "# Print the string in the format required. \n",
    "print(lista[0]+'\\n     '+lista[1]+listb[0]+'!\\n\\t   '+listb[1]+listc[0]+'\\n\\t     '+listc[1]+listc[2])"
   ]
  },
  {
   "cell_type": "code",
   "execution_count": null,
   "metadata": {},
   "outputs": [],
   "source": []
  }
 ],
 "metadata": {
  "kernelspec": {
   "display_name": "Python 3",
   "language": "python",
   "name": "python3"
  },
  "language_info": {
   "codemirror_mode": {
    "name": "ipython",
    "version": 3
   },
   "file_extension": ".py",
   "mimetype": "text/x-python",
   "name": "python",
   "nbconvert_exporter": "python",
   "pygments_lexer": "ipython3",
   "version": "3.6.5"
  }
 },
 "nbformat": 4,
 "nbformat_minor": 2
}
